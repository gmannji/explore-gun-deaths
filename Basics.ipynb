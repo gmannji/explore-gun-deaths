{
 "cells": [
  {
   "cell_type": "code",
   "execution_count": 2,
   "metadata": {
    "collapsed": false
   },
   "outputs": [
    {
     "name": "stdout",
     "output_type": "stream",
     "text": [
      "[['', 'year', 'month', 'intent', 'police', 'sex', 'age', 'race', 'hispanic', 'place', 'education'], ['1', '2012', '01', 'Suicide', '0', 'M', '34', 'Asian/Pacific Islander', '100', 'Home', '4'], ['2', '2012', '01', 'Suicide', '0', 'F', '21', 'White', '100', 'Street', '3'], ['3', '2012', '01', 'Suicide', '0', 'M', '60', 'White', '100', 'Other specified', '4'], ['4', '2012', '02', 'Suicide', '0', 'M', '64', 'White', '100', 'Home', '4']]\n"
     ]
    }
   ],
   "source": [
    "import csv \n",
    "f = open(\"guns.csv\", 'r')\n",
    "csvreader = csv.reader(f)\n",
    "data = list(csvreader)\n",
    "print(data[:5])"
   ]
  },
  {
   "cell_type": "code",
   "execution_count": 3,
   "metadata": {
    "collapsed": false
   },
   "outputs": [
    {
     "name": "stdout",
     "output_type": "stream",
     "text": [
      "['', 'year', 'month', 'intent', 'police', 'sex', 'age', 'race', 'hispanic', 'place', 'education']\n",
      "[['1', '2012', '01', 'Suicide', '0', 'M', '34', 'Asian/Pacific Islander', '100', 'Home', '4'], ['2', '2012', '01', 'Suicide', '0', 'F', '21', 'White', '100', 'Street', '3'], ['3', '2012', '01', 'Suicide', '0', 'M', '60', 'White', '100', 'Other specified', '4'], ['4', '2012', '02', 'Suicide', '0', 'M', '64', 'White', '100', 'Home', '4'], ['5', '2012', '02', 'Suicide', '0', 'M', '31', 'White', '100', 'Other specified', '2']]\n"
     ]
    }
   ],
   "source": [
    "headers = data[0]\n",
    "data = data[1:]\n",
    "print(headers)\n",
    "print(data[:5])"
   ]
  },
  {
   "cell_type": "code",
   "execution_count": 4,
   "metadata": {
    "collapsed": false
   },
   "outputs": [
    {
     "name": "stdout",
     "output_type": "stream",
     "text": [
      "{'2013': 33635, '2012': 33562, '2014': 33598}\n"
     ]
    }
   ],
   "source": [
    "years = [row[1] for row in data]\n",
    "#print(years)\n",
    "\n",
    "year_counts = {}\n",
    "\n",
    "for tahun in years:\n",
    "    \n",
    "    if tahun in year_counts:\n",
    "        year_counts[tahun] += 1\n",
    "    else:\n",
    "        year_counts[tahun] = 0\n",
    "\n",
    "print (year_counts)\n",
    "    "
   ]
  },
  {
   "cell_type": "code",
   "execution_count": 5,
   "metadata": {
    "collapsed": false
   },
   "outputs": [
    {
     "name": "stdout",
     "output_type": "stream",
     "text": [
      "[datetime.datetime(2012, 1, 1, 0, 0), datetime.datetime(2012, 1, 1, 0, 0), datetime.datetime(2012, 1, 1, 0, 0), datetime.datetime(2012, 2, 1, 0, 0), datetime.datetime(2012, 2, 1, 0, 0)]\n",
      "{datetime.datetime(2012, 3, 1, 0, 0): 2742, datetime.datetime(2014, 8, 1, 0, 0): 2969, datetime.datetime(2013, 10, 1, 0, 0): 2807, datetime.datetime(2012, 1, 1, 0, 0): 2757, datetime.datetime(2013, 4, 1, 0, 0): 2797, datetime.datetime(2012, 8, 1, 0, 0): 2953, datetime.datetime(2014, 6, 1, 0, 0): 2930, datetime.datetime(2013, 7, 1, 0, 0): 3078, datetime.datetime(2012, 12, 1, 0, 0): 2790, datetime.datetime(2012, 11, 1, 0, 0): 2728, datetime.datetime(2013, 11, 1, 0, 0): 2757, datetime.datetime(2014, 9, 1, 0, 0): 2913, datetime.datetime(2014, 12, 1, 0, 0): 2856, datetime.datetime(2012, 7, 1, 0, 0): 3025, datetime.datetime(2014, 4, 1, 0, 0): 2861, datetime.datetime(2012, 9, 1, 0, 0): 2851, datetime.datetime(2014, 5, 1, 0, 0): 2863, datetime.datetime(2013, 2, 1, 0, 0): 2374, datetime.datetime(2014, 11, 1, 0, 0): 2755, datetime.datetime(2012, 4, 1, 0, 0): 2794, datetime.datetime(2014, 3, 1, 0, 0): 2683, datetime.datetime(2013, 6, 1, 0, 0): 2919, datetime.datetime(2014, 2, 1, 0, 0): 2360, datetime.datetime(2014, 1, 1, 0, 0): 2650, datetime.datetime(2013, 3, 1, 0, 0): 2861, datetime.datetime(2012, 5, 1, 0, 0): 2998, datetime.datetime(2013, 8, 1, 0, 0): 2858, datetime.datetime(2013, 12, 1, 0, 0): 2764, datetime.datetime(2013, 9, 1, 0, 0): 2741, datetime.datetime(2013, 5, 1, 0, 0): 2805, datetime.datetime(2014, 7, 1, 0, 0): 2883, datetime.datetime(2012, 10, 1, 0, 0): 2732, datetime.datetime(2012, 6, 1, 0, 0): 2825, datetime.datetime(2014, 10, 1, 0, 0): 2864, datetime.datetime(2013, 1, 1, 0, 0): 2863, datetime.datetime(2012, 2, 1, 0, 0): 2356}\n"
     ]
    }
   ],
   "source": [
    "import datetime\n",
    "date_counts ={}\n",
    "\n",
    "dates=[datetime.datetime(year = int(row[1]), month = int(row[2]), day=1) for row in data]\n",
    "\n",
    "'''for row in data:\n",
    "    year = int(row[1])\n",
    "    month = int(row[2])\n",
    "    dates.append(datetime.datetime(year = year, month = month, day=1))'''\n",
    "    \n",
    "print(dates[:5])\n",
    "\n",
    "for hb in dates:\n",
    "    if hb in date_counts:\n",
    "        date_counts[hb] += 1\n",
    "    else:\n",
    "        date_counts[hb] = 0\n",
    "\n",
    "print(date_counts)"
   ]
  },
  {
   "cell_type": "code",
   "execution_count": 6,
   "metadata": {
    "collapsed": false,
    "scrolled": true
   },
   "outputs": [
    {
     "name": "stdout",
     "output_type": "stream",
     "text": [
      "{'M': 86348, 'F': 14448}\n",
      "{'Native American/Native Alaskan': 916, 'Hispanic': 9021, 'Black': 23295, 'Asian/Pacific Islander': 1325, 'White': 66236}\n"
     ]
    }
   ],
   "source": [
    "sex_counts = {}\n",
    "race_counts = {}\n",
    "\n",
    "for row in data:\n",
    "    sex = row[5]\n",
    "    race = row[7]\n",
    "    if sex in sex_counts:\n",
    "        sex_counts[sex] += 1\n",
    "    else:\n",
    "        sex_counts[sex] = 0\n",
    "        \n",
    "    if race in race_counts:\n",
    "        race_counts[race] += 1\n",
    "    else:\n",
    "        race_counts[race] = 0\n",
    "        \n",
    "print(sex_counts)\n",
    "print(race_counts)"
   ]
  },
  {
   "cell_type": "markdown",
   "metadata": {},
   "source": [
    "Repetitive steps but practice makes permanent"
   ]
  },
  {
   "cell_type": "code",
   "execution_count": 7,
   "metadata": {
    "collapsed": false
   },
   "outputs": [
    {
     "name": "stdout",
     "output_type": "stream",
     "text": [
      "[['Id', 'Year', 'Id', 'Sex', 'Id', 'Hispanic Origin', 'Id', 'Id2', 'Geography', 'Total', 'Race Alone - White', 'Race Alone - Hispanic', 'Race Alone - Black or African American', 'Race Alone - American Indian and Alaska Native', 'Race Alone - Asian', 'Race Alone - Native Hawaiian and Other Pacific Islander', 'Two or More Races'], ['cen42010', 'April 1, 2010 Census', 'totsex', 'Both Sexes', 'tothisp', 'Total', '0100000US', '', 'United States', '308745538', '197318956', '44618105', '40250635', '3739506', '15159516', '674625', '6984195']]\n"
     ]
    }
   ],
   "source": [
    "f = open(\"census.csv\", 'r')\n",
    "csvreader = csv.reader(f)\n",
    "census = list(csvreader)\n",
    "print(census[:5])"
   ]
  },
  {
   "cell_type": "code",
   "execution_count": 8,
   "metadata": {
    "collapsed": false
   },
   "outputs": [
    {
     "name": "stdout",
     "output_type": "stream",
     "text": [
      "{'Native American/Native Alaskan': 24.49521407373059, 'White': 33.567986240511026, 'Black': 57.87486334066531, 'Hispanic': 20.21371958320883, 'Asian/Pacific Islander': 8.36799419684339}\n"
     ]
    }
   ],
   "source": [
    "mapping ={'Asian/Pacific Islander':15834141,'Black':40250635,'Native American/Native Alaskan':3739506,'Hispanic':44628105,'White':197318956}\n",
    "race_per_hundredk={}\n",
    "\n",
    "for item in race_counts:\n",
    "    if item in mapping:\n",
    "        race = (race_counts[item]/mapping[item])*100000\n",
    "        race_per_hundredk[item] = race\n",
    "\n",
    "print(race_per_hundredk)"
   ]
  },
  {
   "cell_type": "code",
   "execution_count": 15,
   "metadata": {
    "collapsed": false
   },
   "outputs": [
    {
     "name": "stdout",
     "output_type": "stream",
     "text": [
      "['Suicide', 'Suicide', 'Suicide', 'Suicide', 'Suicide']\n",
      "['Asian/Pacific Islander', 'White', 'White', 'White', 'White']\n",
      "{'Native American/Native Alaskan': 325, 'Hispanic': 5633, 'Black': 19509, 'Asian/Pacific Islander': 558, 'White': 9146}\n",
      "{'Native American/Native Alaskan': 8.690987526159873, 'White': 4.635135004464548, 'Black': 48.468800554326656, 'Hispanic': 12.622090944708496, 'Asian/Pacific Islander': 3.5240307636517825}\n"
     ]
    }
   ],
   "source": [
    "intents = [row[3] for row in data]\n",
    "print (intents[:5])\n",
    "races = [row[7] for row in data]\n",
    "print (races[:5])\n",
    "\n",
    "homicide_race_counts = {}\n",
    "homicide_race_per_hundredk = {}\n",
    "\n",
    "for i, race in enumerate(races):\n",
    "    if intents[i] == 'Homicide':\n",
    "        if race in homicide_race_counts:\n",
    "            homicide_race_counts[race] += 1\n",
    "        else:\n",
    "            homicide_race_counts[race] = 0\n",
    "            \n",
    "print(homicide_race_counts)\n",
    "\n",
    "for item in homicide_race_counts:\n",
    "    if item in mapping:\n",
    "        homicide_race = (homicide_race_counts[item]/mapping[item])*100000\n",
    "        homicide_race_per_hundredk[item] = homicide_race\n",
    "\n",
    "print(homicide_race_per_hundredk)"
   ]
  },
  {
   "cell_type": "code",
   "execution_count": null,
   "metadata": {
    "collapsed": true
   },
   "outputs": [],
   "source": []
  }
 ],
 "metadata": {
  "kernelspec": {
   "display_name": "Python 3",
   "language": "python",
   "name": "python3"
  },
  "language_info": {
   "codemirror_mode": {
    "name": "ipython",
    "version": 3
   },
   "file_extension": ".py",
   "mimetype": "text/x-python",
   "name": "python",
   "nbconvert_exporter": "python",
   "pygments_lexer": "ipython3",
   "version": "3.4.3"
  }
 },
 "nbformat": 4,
 "nbformat_minor": 0
}
